{
  "cells": [
    {
      "cell_type": "markdown",
      "metadata": {
        "id": "Jp5xWmcKDpMi"
      },
      "source": [
        "![image info](https://raw.githubusercontent.com/albahnsen/MIAD_ML_and_NLP/main/images/banner_1.png)"
      ]
    },
    {
      "cell_type": "markdown",
      "metadata": {
        "id": "-ViEL_uADpMl"
      },
      "source": [
        "# Taller: Tokenización de textos  \n",
        "\n",
        "En este taller podrán poner en práctica sus conocimientos sobre preprocesamiento de texto (tokenización). El taller está constituido por 5 puntos, en los cuales deberan seguir las intrucciones de cada numeral para su desarrollo."
      ]
    },
    {
      "cell_type": "markdown",
      "metadata": {
        "id": "RVUvPSYLDpMm"
      },
      "source": [
        "## Datos detección de toxicidad en comentarios\n",
        "\n",
        "En este taller se usará el conjunto de datos de detección de toxicidad en comentarios de la base de datos de Kaggle. Cada observación es un comentario que tiene como variable objetivo (target) la probabilidad de ser un comentario tóxico. El objetivo es predecir la toxicidad de cada comentario. Para más detalles pueden visitar el siguiente enlace: [datos](https://www.kaggle.com/c/jigsaw-unintended-bias-in-toxicity-classification/data)."
      ]
    },
    {
      "cell_type": "code",
      "source": [
        "!nvidia-smi"
      ],
      "metadata": {
        "id": "-KKjLcVNizGE",
        "colab": {
          "base_uri": "https://localhost:8080/"
        },
        "outputId": "8c148078-8b0f-4284-9d4c-78ce7e2724af"
      },
      "execution_count": null,
      "outputs": [
        {
          "output_type": "stream",
          "name": "stdout",
          "text": [
            "/bin/bash: line 1: nvidia-smi: command not found\n"
          ]
        }
      ]
    },
    {
      "cell_type": "code",
      "execution_count": null,
      "metadata": {
        "id": "heHQ9XLKDpMm"
      },
      "outputs": [],
      "source": [
        "import warnings\n",
        "warnings.filterwarnings('ignore')"
      ]
    },
    {
      "cell_type": "code",
      "execution_count": null,
      "metadata": {
        "id": "XmkTklXjDpMn"
      },
      "outputs": [],
      "source": [
        "# Importación librerías\n",
        "import pandas as pd\n",
        "import numpy as np\n",
        "import scipy as sp\n",
        "from sklearn.model_selection import train_test_split, cross_val_score\n",
        "from sklearn.feature_extraction.text import CountVectorizer, TfidfVectorizer\n",
        "from sklearn import metrics\n",
        "from xgboost import XGBRegressor\n",
        "from sklearn.metrics import mean_squared_error\n",
        "import matplotlib.pyplot as plt\n",
        "%matplotlib inline"
      ]
    },
    {
      "cell_type": "code",
      "execution_count": null,
      "metadata": {
        "id": "U6K8ZrdWDpMn",
        "colab": {
          "base_uri": "https://localhost:8080/",
          "height": 206
        },
        "outputId": "ba0afb2a-a025-4e71-d0d9-929b7bc6169f"
      },
      "outputs": [
        {
          "output_type": "execute_result",
          "data": {
            "text/plain": [
              "        id                                       comment_text  target\n",
              "0  6101457  What are you talking about? What group do Pete...     0.0\n",
              "1  5342103   NO!, Let him, we need a Conservative government.     0.0\n",
              "2   743361  Perhaps he took the \"power out of the Cardinal...     0.2\n",
              "3   551008  As always, yours is dripping with sarcasm, whi...     0.0\n",
              "4   865998  The dirty little secret is that the price rang...     0.3"
            ],
            "text/html": [
              "\n",
              "  <div id=\"df-958ab28a-986a-436e-87b6-b815c3e5db60\" class=\"colab-df-container\">\n",
              "    <div>\n",
              "<style scoped>\n",
              "    .dataframe tbody tr th:only-of-type {\n",
              "        vertical-align: middle;\n",
              "    }\n",
              "\n",
              "    .dataframe tbody tr th {\n",
              "        vertical-align: top;\n",
              "    }\n",
              "\n",
              "    .dataframe thead th {\n",
              "        text-align: right;\n",
              "    }\n",
              "</style>\n",
              "<table border=\"1\" class=\"dataframe\">\n",
              "  <thead>\n",
              "    <tr style=\"text-align: right;\">\n",
              "      <th></th>\n",
              "      <th>id</th>\n",
              "      <th>comment_text</th>\n",
              "      <th>target</th>\n",
              "    </tr>\n",
              "  </thead>\n",
              "  <tbody>\n",
              "    <tr>\n",
              "      <th>0</th>\n",
              "      <td>6101457</td>\n",
              "      <td>What are you talking about? What group do Pete...</td>\n",
              "      <td>0.0</td>\n",
              "    </tr>\n",
              "    <tr>\n",
              "      <th>1</th>\n",
              "      <td>5342103</td>\n",
              "      <td>NO!, Let him, we need a Conservative government.</td>\n",
              "      <td>0.0</td>\n",
              "    </tr>\n",
              "    <tr>\n",
              "      <th>2</th>\n",
              "      <td>743361</td>\n",
              "      <td>Perhaps he took the \"power out of the Cardinal...</td>\n",
              "      <td>0.2</td>\n",
              "    </tr>\n",
              "    <tr>\n",
              "      <th>3</th>\n",
              "      <td>551008</td>\n",
              "      <td>As always, yours is dripping with sarcasm, whi...</td>\n",
              "      <td>0.0</td>\n",
              "    </tr>\n",
              "    <tr>\n",
              "      <th>4</th>\n",
              "      <td>865998</td>\n",
              "      <td>The dirty little secret is that the price rang...</td>\n",
              "      <td>0.3</td>\n",
              "    </tr>\n",
              "  </tbody>\n",
              "</table>\n",
              "</div>\n",
              "    <div class=\"colab-df-buttons\">\n",
              "\n",
              "  <div class=\"colab-df-container\">\n",
              "    <button class=\"colab-df-convert\" onclick=\"convertToInteractive('df-958ab28a-986a-436e-87b6-b815c3e5db60')\"\n",
              "            title=\"Convert this dataframe to an interactive table.\"\n",
              "            style=\"display:none;\">\n",
              "\n",
              "  <svg xmlns=\"http://www.w3.org/2000/svg\" height=\"24px\" viewBox=\"0 -960 960 960\">\n",
              "    <path d=\"M120-120v-720h720v720H120Zm60-500h600v-160H180v160Zm220 220h160v-160H400v160Zm0 220h160v-160H400v160ZM180-400h160v-160H180v160Zm440 0h160v-160H620v160ZM180-180h160v-160H180v160Zm440 0h160v-160H620v160Z\"/>\n",
              "  </svg>\n",
              "    </button>\n",
              "\n",
              "  <style>\n",
              "    .colab-df-container {\n",
              "      display:flex;\n",
              "      gap: 12px;\n",
              "    }\n",
              "\n",
              "    .colab-df-convert {\n",
              "      background-color: #E8F0FE;\n",
              "      border: none;\n",
              "      border-radius: 50%;\n",
              "      cursor: pointer;\n",
              "      display: none;\n",
              "      fill: #1967D2;\n",
              "      height: 32px;\n",
              "      padding: 0 0 0 0;\n",
              "      width: 32px;\n",
              "    }\n",
              "\n",
              "    .colab-df-convert:hover {\n",
              "      background-color: #E2EBFA;\n",
              "      box-shadow: 0px 1px 2px rgba(60, 64, 67, 0.3), 0px 1px 3px 1px rgba(60, 64, 67, 0.15);\n",
              "      fill: #174EA6;\n",
              "    }\n",
              "\n",
              "    .colab-df-buttons div {\n",
              "      margin-bottom: 4px;\n",
              "    }\n",
              "\n",
              "    [theme=dark] .colab-df-convert {\n",
              "      background-color: #3B4455;\n",
              "      fill: #D2E3FC;\n",
              "    }\n",
              "\n",
              "    [theme=dark] .colab-df-convert:hover {\n",
              "      background-color: #434B5C;\n",
              "      box-shadow: 0px 1px 3px 1px rgba(0, 0, 0, 0.15);\n",
              "      filter: drop-shadow(0px 1px 2px rgba(0, 0, 0, 0.3));\n",
              "      fill: #FFFFFF;\n",
              "    }\n",
              "  </style>\n",
              "\n",
              "    <script>\n",
              "      const buttonEl =\n",
              "        document.querySelector('#df-958ab28a-986a-436e-87b6-b815c3e5db60 button.colab-df-convert');\n",
              "      buttonEl.style.display =\n",
              "        google.colab.kernel.accessAllowed ? 'block' : 'none';\n",
              "\n",
              "      async function convertToInteractive(key) {\n",
              "        const element = document.querySelector('#df-958ab28a-986a-436e-87b6-b815c3e5db60');\n",
              "        const dataTable =\n",
              "          await google.colab.kernel.invokeFunction('convertToInteractive',\n",
              "                                                    [key], {});\n",
              "        if (!dataTable) return;\n",
              "\n",
              "        const docLinkHtml = 'Like what you see? Visit the ' +\n",
              "          '<a target=\"_blank\" href=https://colab.research.google.com/notebooks/data_table.ipynb>data table notebook</a>'\n",
              "          + ' to learn more about interactive tables.';\n",
              "        element.innerHTML = '';\n",
              "        dataTable['output_type'] = 'display_data';\n",
              "        await google.colab.output.renderOutput(dataTable, element);\n",
              "        const docLink = document.createElement('div');\n",
              "        docLink.innerHTML = docLinkHtml;\n",
              "        element.appendChild(docLink);\n",
              "      }\n",
              "    </script>\n",
              "  </div>\n",
              "\n",
              "\n",
              "<div id=\"df-067a5388-cc4b-402b-87af-fc243f31eb57\">\n",
              "  <button class=\"colab-df-quickchart\" onclick=\"quickchart('df-067a5388-cc4b-402b-87af-fc243f31eb57')\"\n",
              "            title=\"Suggest charts\"\n",
              "            style=\"display:none;\">\n",
              "\n",
              "<svg xmlns=\"http://www.w3.org/2000/svg\" height=\"24px\"viewBox=\"0 0 24 24\"\n",
              "     width=\"24px\">\n",
              "    <g>\n",
              "        <path d=\"M19 3H5c-1.1 0-2 .9-2 2v14c0 1.1.9 2 2 2h14c1.1 0 2-.9 2-2V5c0-1.1-.9-2-2-2zM9 17H7v-7h2v7zm4 0h-2V7h2v10zm4 0h-2v-4h2v4z\"/>\n",
              "    </g>\n",
              "</svg>\n",
              "  </button>\n",
              "\n",
              "<style>\n",
              "  .colab-df-quickchart {\n",
              "      --bg-color: #E8F0FE;\n",
              "      --fill-color: #1967D2;\n",
              "      --hover-bg-color: #E2EBFA;\n",
              "      --hover-fill-color: #174EA6;\n",
              "      --disabled-fill-color: #AAA;\n",
              "      --disabled-bg-color: #DDD;\n",
              "  }\n",
              "\n",
              "  [theme=dark] .colab-df-quickchart {\n",
              "      --bg-color: #3B4455;\n",
              "      --fill-color: #D2E3FC;\n",
              "      --hover-bg-color: #434B5C;\n",
              "      --hover-fill-color: #FFFFFF;\n",
              "      --disabled-bg-color: #3B4455;\n",
              "      --disabled-fill-color: #666;\n",
              "  }\n",
              "\n",
              "  .colab-df-quickchart {\n",
              "    background-color: var(--bg-color);\n",
              "    border: none;\n",
              "    border-radius: 50%;\n",
              "    cursor: pointer;\n",
              "    display: none;\n",
              "    fill: var(--fill-color);\n",
              "    height: 32px;\n",
              "    padding: 0;\n",
              "    width: 32px;\n",
              "  }\n",
              "\n",
              "  .colab-df-quickchart:hover {\n",
              "    background-color: var(--hover-bg-color);\n",
              "    box-shadow: 0 1px 2px rgba(60, 64, 67, 0.3), 0 1px 3px 1px rgba(60, 64, 67, 0.15);\n",
              "    fill: var(--button-hover-fill-color);\n",
              "  }\n",
              "\n",
              "  .colab-df-quickchart-complete:disabled,\n",
              "  .colab-df-quickchart-complete:disabled:hover {\n",
              "    background-color: var(--disabled-bg-color);\n",
              "    fill: var(--disabled-fill-color);\n",
              "    box-shadow: none;\n",
              "  }\n",
              "\n",
              "  .colab-df-spinner {\n",
              "    border: 2px solid var(--fill-color);\n",
              "    border-color: transparent;\n",
              "    border-bottom-color: var(--fill-color);\n",
              "    animation:\n",
              "      spin 1s steps(1) infinite;\n",
              "  }\n",
              "\n",
              "  @keyframes spin {\n",
              "    0% {\n",
              "      border-color: transparent;\n",
              "      border-bottom-color: var(--fill-color);\n",
              "      border-left-color: var(--fill-color);\n",
              "    }\n",
              "    20% {\n",
              "      border-color: transparent;\n",
              "      border-left-color: var(--fill-color);\n",
              "      border-top-color: var(--fill-color);\n",
              "    }\n",
              "    30% {\n",
              "      border-color: transparent;\n",
              "      border-left-color: var(--fill-color);\n",
              "      border-top-color: var(--fill-color);\n",
              "      border-right-color: var(--fill-color);\n",
              "    }\n",
              "    40% {\n",
              "      border-color: transparent;\n",
              "      border-right-color: var(--fill-color);\n",
              "      border-top-color: var(--fill-color);\n",
              "    }\n",
              "    60% {\n",
              "      border-color: transparent;\n",
              "      border-right-color: var(--fill-color);\n",
              "    }\n",
              "    80% {\n",
              "      border-color: transparent;\n",
              "      border-right-color: var(--fill-color);\n",
              "      border-bottom-color: var(--fill-color);\n",
              "    }\n",
              "    90% {\n",
              "      border-color: transparent;\n",
              "      border-bottom-color: var(--fill-color);\n",
              "    }\n",
              "  }\n",
              "</style>\n",
              "\n",
              "  <script>\n",
              "    async function quickchart(key) {\n",
              "      const quickchartButtonEl =\n",
              "        document.querySelector('#' + key + ' button');\n",
              "      quickchartButtonEl.disabled = true;  // To prevent multiple clicks.\n",
              "      quickchartButtonEl.classList.add('colab-df-spinner');\n",
              "      try {\n",
              "        const charts = await google.colab.kernel.invokeFunction(\n",
              "            'suggestCharts', [key], {});\n",
              "      } catch (error) {\n",
              "        console.error('Error during call to suggestCharts:', error);\n",
              "      }\n",
              "      quickchartButtonEl.classList.remove('colab-df-spinner');\n",
              "      quickchartButtonEl.classList.add('colab-df-quickchart-complete');\n",
              "    }\n",
              "    (() => {\n",
              "      let quickchartButtonEl =\n",
              "        document.querySelector('#df-067a5388-cc4b-402b-87af-fc243f31eb57 button');\n",
              "      quickchartButtonEl.style.display =\n",
              "        google.colab.kernel.accessAllowed ? 'block' : 'none';\n",
              "    })();\n",
              "  </script>\n",
              "</div>\n",
              "\n",
              "    </div>\n",
              "  </div>\n"
            ],
            "application/vnd.google.colaboratory.intrinsic+json": {
              "type": "dataframe",
              "variable_name": "df"
            }
          },
          "metadata": {},
          "execution_count": 4
        }
      ],
      "source": [
        "# Carga de datos de archivos .csv\n",
        "df = pd.read_csv('https://raw.githubusercontent.com/albahnsen/MIAD_ML_and_NLP/main/datasets/Toxicity.zip')\n",
        "df = df[['id','comment_text', 'target']]\n",
        "df.head()"
      ]
    },
    {
      "cell_type": "code",
      "execution_count": null,
      "metadata": {
        "colab": {
          "base_uri": "https://localhost:8080/"
        },
        "id": "agy4LnAeDpMp",
        "outputId": "20d70b29-98c6-4266-bb7c-b40f46781c96"
      },
      "outputs": [
        {
          "output_type": "execute_result",
          "data": {
            "text/plain": [
              "(541462, 3)"
            ]
          },
          "metadata": {},
          "execution_count": 5
        }
      ],
      "source": [
        "df.shape"
      ]
    },
    {
      "cell_type": "code",
      "execution_count": null,
      "metadata": {
        "colab": {
          "base_uri": "https://localhost:8080/",
          "height": 447
        },
        "id": "Q75G0fE9DpMp",
        "outputId": "563f9ec9-7bcb-47d0-e94f-1f53655bbb02"
      },
      "outputs": [
        {
          "output_type": "execute_result",
          "data": {
            "text/plain": [
              "<Axes: >"
            ]
          },
          "metadata": {},
          "execution_count": 6
        },
        {
          "output_type": "display_data",
          "data": {
            "text/plain": [
              "<Figure size 640x480 with 1 Axes>"
            ],
            "image/png": "[encoded data removed]"
          },
          "metadata": {}
        }
      ],
      "source": [
        "# Impresión histograma de variable de interés (y)\n",
        "df.target.hist()"
      ]
    },
    {
      "cell_type": "code",
      "execution_count": null,
      "metadata": {
        "colab": {
          "base_uri": "https://localhost:8080/"
        },
        "id": "8gaTrIV6DpMp",
        "outputId": "e6484d08-3993-4e3d-bcef-c83b48daff91"
      },
      "outputs": [
        {
          "output_type": "execute_result",
          "data": {
            "text/plain": [
              "count    541462.000000\n",
              "mean          0.102991\n",
              "std           0.196979\n",
              "min           0.000000\n",
              "25%           0.000000\n",
              "50%           0.000000\n",
              "75%           0.166667\n",
              "max           1.000000\n",
              "Name: target, dtype: float64"
            ]
          },
          "metadata": {},
          "execution_count": 7
        }
      ],
      "source": [
        "# Separación de variable de interés (y)\n",
        "y = df.target\n",
        "y.describe()"
      ]
    },
    {
      "cell_type": "code",
      "execution_count": null,
      "metadata": {
        "id": "wSmw6Dg0DpMq"
      },
      "outputs": [],
      "source": [
        "# Separación de variables predictoras (X), solo se considera el texto de la noticia\n",
        "X = df.comment_text"
      ]
    },
    {
      "cell_type": "code",
      "execution_count": null,
      "metadata": {
        "id": "nOvrrhyuDpMq"
      },
      "outputs": [],
      "source": [
        "# Separación de datos en set de entrenamiento y test\n",
        "X_train, X_test, y_train, y_test = train_test_split(X, y, test_size=0.33, random_state=42)"
      ]
    },
    {
      "cell_type": "markdown",
      "metadata": {
        "id": "oc7ATlogDpMr"
      },
      "source": [
        "## Punto 1 - Tokenización con CountVectorizer\n",
        "\n",
        "En la celda 1 creen y entrenen el modelo de regresión de su preferencia, para que prediga la probabilidad de que un comentario sea tóxico, usando los set de entrenamiento y test definidos anteriormente. Usen la función **CountVectorizer** para preprocesar los comentarios y presenten el desempeño del modelo con la métrica del MSE.\n",
        "\n",
        "Recuerden que el preprocesamiento que se haga sobre los datos de entrenamiento  (*.fit_transform()*) deben ser aplicado al set de test (*.transform()*)."
      ]
    },
    {
      "cell_type": "code",
      "execution_count": null,
      "metadata": {
        "colab": {
          "base_uri": "https://localhost:8080/"
        },
        "id": "IxqzhLkuDpMr",
        "outputId": "931086e0-cfe9-4498-df09-512a7acd0245"
      },
      "outputs": [
        {
          "output_type": "stream",
          "name": "stdout",
          "text": [
            "MSE: 0.024235323526386836\n"
          ]
        }
      ],
      "source": [
        "# Celda 1\n",
        "vectorizer = CountVectorizer()\n",
        "X_train_vect = vectorizer.fit_transform(X_train)\n",
        "X_test_vect = vectorizer.transform(X_test)\n",
        "\n",
        "model = XGBRegressor(objective='reg:squarederror', n_estimators=30, random_state=42, n_jobs=-1)\n",
        "model.fit(X_train_vect, y_train)\n",
        "y_pred = model.predict(X_test_vect)\n",
        "\n",
        "punto1_mse = mean_squared_error(y_test, y_pred)\n",
        "print(f'MSE: {punto1_mse}')"
      ]
    },
    {
      "cell_type": "code",
      "source": [
        "print(X_train_vect.shape)\n",
        "print(X_test_vect.shape)"
      ],
      "metadata": {
        "colab": {
          "base_uri": "https://localhost:8080/"
        },
        "id": "t3bDn0xWEio7",
        "outputId": "02ef4241-7b72-44d5-bd3b-38d2cb6c49fd"
      },
      "execution_count": null,
      "outputs": [
        {
          "output_type": "stream",
          "name": "stdout",
          "text": [
            "(362779, 141176)\n",
            "(178683, 141176)\n"
          ]
        }
      ]
    },
    {
      "cell_type": "markdown",
      "source": [
        "Al utilizar la función CountVectorizer se crea una matriz que contiene los datos de los tokens, en este caso se obtuvieron 141176 y al utilizar el modelo de XGBRegressor se obtuvo un MSE de 0.024.\n"
      ],
      "metadata": {
        "id": "OQyKQ3SgAgwc"
      }
    },
    {
      "cell_type": "markdown",
      "metadata": {
        "id": "i2-0i2yADpMr"
      },
      "source": [
        "## Punto 2 - Tokenización con CountVectorizer y trigramas\n",
        "\n",
        "En la celda 2 creen y entrenen el mismo modelo de regresión del punto anterior (es decir si usaron un RandomForestRegresor usen nuevamente ese regresor), para que prediga la probabilidad de que un comentario sea tóxico, usando los set de entrenamiento y test definidos anteriormente. Usen la función CountVectorizer **considerando trigramas** para preprocesar los comentarios y presenten el desempeño del modelo con la métrica del MSE.\n",
        "\n",
        "Recuerden que el preprocesamiento que se haga sobre los datos de entrenamiento  (*.fit_transform()*) deben ser aplicado al set de test (*.transform()*)."
      ]
    },
    {
      "cell_type": "code",
      "execution_count": null,
      "metadata": {
        "id": "ypMRZM-fDpMs",
        "colab": {
          "base_uri": "https://localhost:8080/"
        },
        "outputId": "a8a6988d-9c7a-4f0a-a2d6-a4698cf88cae"
      },
      "outputs": [
        {
          "output_type": "stream",
          "name": "stdout",
          "text": [
            "MSE: 0.03763027619090143\n"
          ]
        }
      ],
      "source": [
        "# Celda 2\n",
        "vectorizer = CountVectorizer(ngram_range=(3, 3))\n",
        "X_train_vect = vectorizer.fit_transform(X_train)\n",
        "X_test_vect = vectorizer.transform(X_test)\n",
        "\n",
        "model = XGBRegressor(objective='reg:squarederror', n_estimators=30, random_state=42, n_jobs=-1)\n",
        "model.fit(X_train_vect, y_train)\n",
        "y_pred = model.predict(X_test_vect)\n",
        "\n",
        "punto2_mse = mean_squared_error(y_test, y_pred)\n",
        "print(f'MSE: {punto2_mse}')"
      ]
    },
    {
      "cell_type": "code",
      "source": [
        "print(X_train_vect.shape)\n",
        "print(X_test_vect.shape)"
      ],
      "metadata": {
        "id": "zsgeTSOvEso7",
        "colab": {
          "base_uri": "https://localhost:8080/"
        },
        "outputId": "5e18d5c0-d54e-44b8-b273-dd5ed5eba025"
      },
      "execution_count": null,
      "outputs": [
        {
          "output_type": "stream",
          "name": "stdout",
          "text": [
            "(362779, 10546378)\n",
            "(178683, 10546378)\n"
          ]
        }
      ]
    },
    {
      "cell_type": "markdown",
      "source": [
        "Al considerar trigramas se obtuvieron 10546378 y al utilizar el modelo de XGBRegressor se obtuvo un MSE de 0.037, por lo que se deduce que al aumentar la complejidad, ya que se tienen más tokens, a pesar de que se espera tener mejores resultados ya que se le agrega contexto, en lugar de mejorar, empeora el desempeño del  modelo, lo que indica que el modelo no pudo aprovechar la información añadida y que esto le genero más dificultad para aprender."
      ],
      "metadata": {
        "id": "4OerUqTMExSD"
      }
    },
    {
      "cell_type": "markdown",
      "metadata": {
        "id": "6NQbfIjZDpMs"
      },
      "source": [
        "## Punto 3 - TfidfVectorizer\n",
        "\n",
        "Investigen sobre la función TfidfVectorizer. En la celda de texto 3, expliquen en qué consiste esta técnica de tokenización (describanla y expliquen su funcionamiento) y cúales son las ventajas o deventajas de su uso al compararlo con la función CountVectorizer."
      ]
    },
    {
      "cell_type": "markdown",
      "source": [
        "# **TF-IDF (TERM FREQUENCY - INVERSE DOCUMENT FREQUENCY)**\n",
        "Esta es una estadística que se basa en la frecuencia de una palabra en el cuerpo de un documento, pero también proporciona una representación numérica de la importancia de una palabra para el análisis estadístico. El valor tf-idf aumenta proporcionalmente al número de veces que una palabra aparece en el documento, pero es compensada por la frecuencia de la palabra en la colección de documentos, lo que permite manejar el hecho de que algunas palabras son generalmente más comunes que otras.\n",
        "\n",
        "Por ejemplo, que la palabra “el” o “la” aparezca con mucha frecuencia en un documento concreto no quiere decir nada, ya que si analizamos la muestra o colección completa de documentos, veremos que estas palabras son muy comunes. Pero si un documento contiene muchas veces la palabra “mostaza”, las posibilidades de que ese documento sea relevante para la búsqueda “mostaza” crecen, ya que el término es relativamente poco frecuente dentro de la muestra en global.\n",
        "\n",
        "Ahora, veamos como es calculado TF-IDF:\n",
        "\n",
        "![Screenshot 2024-04-24 110952.png](data:image/png;base64,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)\n",
        "\n",
        "TF es basicamente el recuento de una palabra en una oracion.\n",
        "DF se denomina frecuencia de documento, lo que significa en cuantos documentos esta presente una determinada palabra dentro de la coleccion entera de documentos.\n",
        "Además, dado que en la fórmula df está presente en el denominador de log (N/df), se llama frecuencia inversa del documento. De ahí el nombre tf-idf.\n",
        "\n",
        "**VENTAJAS**\n",
        "\n",
        "* Se centra en la frecuencia de las palabras presentes en la coleccion entera de documentos pero también proporciona la importancia de las palabras. Perrmitiendo eliminar las palabras que son menos importantes para el análisis, haciendo así que la construcción del modelo sea menos compleja al reducir las dimensiones de entrada.\n",
        "* Facil de implementar.\n",
        "* Demostrado empíricamente que es efectivo.\n",
        "\n",
        "**DESVENTAJAS**\n",
        "\n",
        "* No proporciona información lingüística sobre las palabras, como el significado real de las palabras, la similitud con otras palabras, etc.\n",
        "* Basado en que las palabras son mutuamente independientes.\n",
        "* Ajustar los parámetros del modelo puede ser computacionalmente difícil."
      ],
      "metadata": {
        "id": "-GFojNeDqtOY"
      }
    },
    {
      "cell_type": "markdown",
      "metadata": {
        "id": "9WEJcbkgDpMs"
      },
      "source": [
        "## Punto 4 - Tokenización con TfidfVectorizer\n",
        "\n",
        "En la celda 4 creen y entrenen el mismo modelo de regresión del primer punto, para que prediga la probabilidad de que un comentario sea tóxico, usando los set de entrenamiento y test definidos anteriormente. Procesen los comentarios con la función **TfidfVectorizer** y presenten el desempeño del modelo con la métrica del MSE.\n",
        "\n",
        "Recuerden que el preprocesamiento que se haga sobre los datos de entrenamiento  (*.fit_transform()*) deben ser aplicado al set de test (*.transform()*)."
      ]
    },
    {
      "cell_type": "code",
      "execution_count": null,
      "metadata": {
        "colab": {
          "base_uri": "https://localhost:8080/"
        },
        "id": "hKYUVuZ0DpMt",
        "outputId": "857f92a6-b044-48dc-bba0-44f4ba9ace37"
      },
      "outputs": [
        {
          "output_type": "stream",
          "name": "stdout",
          "text": [
            "MSE con TF-IDF: 0.024042573476482282\n"
          ]
        }
      ],
      "source": [
        "# Celda 4\n",
        "tfidf = TfidfVectorizer()\n",
        "\n",
        "X_train_tfidf = tfidf.fit_transform(X_train)\n",
        "X_test_tfidf = tfidf.transform(X_test)\n",
        "\n",
        "model = XGBRegressor(objective='reg:squarederror', n_estimators=30, random_state=42, n_jobs=-1)\n",
        "model.fit(X_train_tfidf, y_train)\n",
        "y_pred = model.predict(X_test_tfidf)\n",
        "\n",
        "punto4_mse = mean_squared_error(y_test, y_pred)\n",
        "print(f'MSE con TF-IDF: {punto4_mse}')"
      ]
    },
    {
      "cell_type": "markdown",
      "source": [
        "Se observa que el MSE considerando trigramas es más alto (peor desempeño) que el calculado usando TF-IDF (MSE de 0.02404). Esto puede sugerir que el modelo de TF-IDF a pesar de que captura solo la influencia indivual de las palabras, al tener en cuenta su frecuencia tiene una mejor capacidad para aprender relaciones útiles entre los tokens."
      ],
      "metadata": {
        "id": "NPblY2TOGs3x"
      }
    },
    {
      "cell_type": "markdown",
      "metadata": {
        "id": "4OxrXbn9DpMt"
      },
      "source": [
        "## Punto 5 - Comparación y análisis de resultados\n",
        "\n",
        "En la celda 5 comparen los resultados obtenidos de los diferentes modelos y comenten cómo el preprocesamiento de texto afecta el desempeño."
      ]
    },
    {
      "cell_type": "code",
      "execution_count": null,
      "metadata": {
        "id": "vanO-4pMDpMt",
        "colab": {
          "base_uri": "https://localhost:8080/",
          "height": 545
        },
        "outputId": "dc6376d2-98a4-46f8-a45d-7b1588917559"
      },
      "outputs": [
        {
          "output_type": "display_data",
          "data": {
            "text/plain": [
              "<Figure size 1000x600 with 1 Axes>"
            ],
            "image/png": "[encoded data removed]"
          },
          "metadata": {}
        }
      ],
      "source": [
        "# Celda 5\n",
        "mse_values = [punto1_mse, punto2_mse, punto4_mse]\n",
        "scenarios = [\"Unigram Count Vectorizer\", \"Trigram Count Vectorizer\", \"TF-IDF\"]\n",
        "\n",
        "\n",
        "plt.figure(figsize=(10, 6))\n",
        "plt.bar(scenarios, mse_values, color=['cornflowerblue', 'mediumaquamarine', 'lightcoral'])\n",
        "plt.ylabel('Mean Squared Error (MSE)')\n",
        "plt.title('Comparison of MSE')\n",
        "plt.ylim(0, max(mse_values) + 0.01)\n",
        "plt.show()"
      ]
    },
    {
      "cell_type": "markdown",
      "source": [
        "Conclusion:\n",
        "\n",
        "- Luego de ejecutar los 3 modelos, se identifica que el unigrama y el vectorizador Tfidf están capturando casi que la misma proporción de información aunque el segundo tipo es levemente mejor ya que tiene un Mean Squared Error de 0.02404, los valores son muy similares, por lo que se recomienda realizar una evaluación más detallada mediante técnicas de preprocesamiento y ajuste de hiperparámetros para identificar una diferencia real entre ambos enfoques.\n",
        "\n",
        "- Por otro lado el modelo de countVectorizer+Trigramas aporta el peor desempeño del modelo con un MSE de 0.037, posiblemente debido a que la mayor complejidad hace que al modelo le cueste aprender relaciones importantes entre los tokens."
      ],
      "metadata": {
        "id": "jFFeFrQK9JiE"
      }
    }
  ],
  "metadata": {
    "kernelspec": {
      "display_name": "Python 3 (ipykernel)",
      "language": "python",
      "name": "python3"
    },
    "language_info": {
      "codemirror_mode": {
        "name": "ipython",
        "version": 3
      },
      "file_extension": ".py",
      "mimetype": "text/x-python",
      "name": "python",
      "nbconvert_exporter": "python",
      "pygments_lexer": "ipython3",
      "version": "3.9.12"
    },
    "name": "_merged",
    "colab": {
      "provenance": []
    }
  },
  "nbformat": 4,
  "nbformat_minor": 0
}